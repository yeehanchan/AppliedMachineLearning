{
 "cells": [
  {
   "cell_type": "code",
   "execution_count": 1,
   "metadata": {
    "collapsed": false
   },
   "outputs": [
    {
     "name": "stdout",
     "output_type": "stream",
     "text": [
      "Populating the interactive namespace from numpy and matplotlib\n"
     ]
    },
    {
     "data": {
      "text/plain": [
       "[1.0, 2.0, 1.0, 1.0, 0.0, 9.0, 7.0, 9.0, 9.0, 3.0]"
      ]
     },
     "execution_count": 1,
     "metadata": {},
     "output_type": "execute_result"
    }
   ],
   "source": [
    "%pylab inline\n",
    "import rlcompleter, readline\n",
    "readline.parse_and_bind('tab: complete')\n",
    "import numpy as np\n",
    "from sets import Set\n",
    "import matplotlib.pyplot as plt\n",
    "from __future__ import division\n",
    "from sklearn.metrics.pairwise import euclidean_distances\n",
    "\n",
    "dataset = np.genfromtxt(\"Desktop/MordernAnalytics/assignment1/train.csv\",delimiter=\",\")[1:]\n",
    "label = [row[0] for row in dataset]\n",
    "train = np.asarray([row[1:] for row in dataset])\n",
    "target = Set(label)\n",
    "\n",
    "def findminK(k,a):\n",
    "    a_sorted = np.argsort(a,axis=0)\n",
    "#    print(a_sorted)\n",
    "    k_min = a_sorted[0:k]\n",
    "#    print(k_min)\n",
    "    return k_min\n",
    "#findminK(3,[1,2,5,4,9,0])\n",
    "def voting(k_nbs,l):\n",
    "    k_l = []\n",
    "    for i in range(0,len(k_nbs)):\n",
    "        t=l[k_nbs[i]]\n",
    "        k_l.append(t)\n",
    "    return max(set(k_l), key=k_l.count)\n",
    "#voting(np.arange(0,9))  \n",
    "#print(label[0:9])\n",
    "def KNN(k_train,k_labels,k_test,k):\n",
    "    results = []\n",
    "    for i in range(0,k_test.shape[0]):\n",
    "        distances = []\n",
    "        for j in range(0,k_train.shape[0]):\n",
    "            ds = euclidean_distances(k_test[i],k_train[j])\n",
    "            distances.extend(ds)\n",
    "#            print(distances)\n",
    "        k_nbs=findminK(k,distances)\n",
    "#        print(k_nbs)\n",
    "        results.append(voting(k_nbs,k_labels))\n",
    "#        print(results)\n",
    "    return results\n",
    "KNN(train[10:100],label[10:100],train[0:10],9)\n"
   ]
  },
  {
   "cell_type": "code",
   "execution_count": 2,
   "metadata": {
    "collapsed": false
   },
   "outputs": [
    {
     "name": "stdout",
     "output_type": "stream",
     "text": [
      "[[ 1.  0.  1.  4.  0.  0.  7.  3.  5.  3.]\n",
      " [ 8.  9.  1.  3.  3.  1.  2.  0.  7.  5.]\n",
      " [ 8.  6.  2.  0.  2.  3.  6.  9.  9.  7.]\n",
      " [ 8.  9.  4.  9.  2.  1.  3.  1.  1.  4.]\n",
      " [ 9.  1.  4.  4.  2.  6.  3.  7.  7.  4.]\n",
      " [ 7.  5.  1.  9.  0.  2.  2.  3.  9.  1.]\n",
      " [ 1.  1.  5.  0.  6.  3.  4.  8.  1.  0.]\n",
      " [ 3.  9.  6.  2.  6.  4.  7.  1.  4.  1.]\n",
      " [ 5.  4.  8.  9.  2.  9.  9.  8.  9.  6.]\n",
      " [ 3.  6.  4.  6.  2.  9.  1.  2.  0.  5.]]\n"
     ]
    }
   ],
   "source": [
    "print(np.asarray(label[0:100]).reshape(10,10))"
   ]
  },
  {
   "cell_type": "code",
   "execution_count": 3,
   "metadata": {
    "collapsed": false
   },
   "outputs": [
    {
     "name": "stdout",
     "output_type": "stream",
     "text": [
      "(28000, 784)\n"
     ]
    }
   ],
   "source": [
    "data = np.genfromtxt(\"Desktop/MordernAnalytics/assignment1/test.csv\",delimiter=\",\")[1:]\n",
    "test = np.asarray(data)\n",
    "print(test.shape)"
   ]
  },
  {
   "cell_type": "code",
   "execution_count": 4,
   "metadata": {
    "collapsed": true
   },
   "outputs": [],
   "source": [
    "from sklearn.neighbors import NearestNeighbors"
   ]
  },
  {
   "cell_type": "code",
   "execution_count": 17,
   "metadata": {
    "collapsed": false
   },
   "outputs": [],
   "source": [
    "from sklearn.neighbors import KNeighborsClassifier\n",
    "neigh = KNeighborsClassifier(n_neighbors=3,algorithm='kd_tree')\n",
    "#neigh.fit(train,label) \n",
    "#predict_label = neigh.predict(test)"
   ]
  },
  {
   "cell_type": "code",
   "execution_count": 15,
   "metadata": {
    "collapsed": false
   },
   "outputs": [],
   "source": [
    "import csv\n",
    "with open(\"sklearn_output.csv\", \"wb\") as f:\n",
    "    writer = csv.writer(f)\n",
    "    writer.writerow(['ImageId','Label'])\n",
    "    for i in range(0,len(predict_label)):\n",
    "        writer.writerow([i+1,int(predict_label[i])])"
   ]
  },
  {
   "cell_type": "code",
   "execution_count": 20,
   "metadata": {
    "collapsed": false
   },
   "outputs": [
    {
     "data": {
      "text/plain": [
       "0.9654285714285713"
      ]
     },
     "execution_count": 20,
     "metadata": {},
     "output_type": "execute_result"
    },
    {
     "data": {
      "image/png": "[encoded data removed]",
      "text/plain": [
       "<matplotlib.figure.Figure at 0x1042ac0d0>"
      ]
     },
     "metadata": {},
     "output_type": "display_data"
    }
   ],
   "source": [
    "from sklearn.neighbors import KNeighborsClassifier\n",
    "neigh = KNeighborsClassifier(n_neighbors=3,algorithm='kd_tree')\n",
    "def Accuracy(predict,actual):\n",
    "    T = F =0\n",
    "    for i in range(0,len(predict)):\n",
    "        if(predict[i] == actual[i]):\n",
    "            T+=1\n",
    "        else:\n",
    "            F+=1\n",
    "    accuracy = T/(T+F)\n",
    "    return accuracy\n",
    "def ConfusionMatrix(predict,actual):\n",
    "    cm = np.zeros([10,10])\n",
    "    predict = map(int,predict)\n",
    "    actual = map(int,actual)\n",
    "    for i in range(0,len(actual)):\n",
    "        cm[actual[i]][predict[i]]+=1\n",
    "    return cm\n",
    "def CrossValidation(n_train,train_label):\n",
    "    start = 0\n",
    "    end = len(n_train)//3\n",
    "    acc = 0\n",
    "    ave_cm = np.zeros([10,10])\n",
    "    for i in range(0,3):\n",
    "        ts = n_train[start:end]\n",
    "        ts_label = train_label[start:end]\n",
    "        tn = np.delete(n_train,np.arange(start,end),axis=0)\n",
    "        tn_label = np.delete(train_label,np.arange(start,end),axis=0)\n",
    "#        print(ts.shape)\n",
    "        neigh.fit(tn,tn_label)\n",
    "        p = neigh.predict(ts)\n",
    "        acc+=Accuracy(p,ts_label)\n",
    "        start = end\n",
    "        end+=end\n",
    "        ave_cm+=ConfusionMatrix(p,ts_label)\n",
    "    plt.matshow(ave_cm//3)\n",
    "    plt.colorbar()\n",
    "    return acc/3    \n",
    "CrossValidation(train,label)"
   ]
  },
  {
   "cell_type": "code",
   "execution_count": null,
   "metadata": {
    "collapsed": true
   },
   "outputs": [],
   "source": []
  }
 ],
 "metadata": {
  "kernelspec": {
   "display_name": "Python 2",
   "language": "python",
   "name": "python2"
  },
  "language_info": {
   "codemirror_mode": {
    "name": "ipython",
    "version": 2
   },
   "file_extension": ".py",
   "mimetype": "text/x-python",
   "name": "python",
   "nbconvert_exporter": "python",
   "pygments_lexer": "ipython2",
   "version": "2.7.10"
  }
 },
 "nbformat": 4,
 "nbformat_minor": 0
}

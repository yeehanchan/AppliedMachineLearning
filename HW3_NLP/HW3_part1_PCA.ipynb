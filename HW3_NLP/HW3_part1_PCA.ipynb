{
 "cells": [
  {
   "cell_type": "code",
   "execution_count": 108,
   "metadata": {
    "collapsed": false
   },
   "outputs": [
    {
     "name": "stdout",
     "output_type": "stream",
     "text": [
      "Populating the interactive namespace from numpy and matplotlib\n"
     ]
    },
    {
     "name": "stderr",
     "output_type": "stream",
     "text": [
      "WARNING: pylab import has clobbered these variables: ['clf', 'cov']\n",
      "`%matplotlib` prevents importing * from pylab and numpy\n"
     ]
    }
   ],
   "source": [
    "%pylab inline\n",
    "import rlcompleter, readline\n",
    "readline.parse_and_bind('tab: complete')"
   ]
  },
  {
   "cell_type": "code",
   "execution_count": 109,
   "metadata": {
    "collapsed": true
   },
   "outputs": [],
   "source": [
    "train_vectors = np.genfromtxt('train_feature_vectors.txt')\n",
    "test_vectors = np.genfromtxt('test_feature_vectors.txt')\n",
    "train_label = [1]*1200 + [0]*1200\n",
    "test_label = [1]*300 + [0]*300"
   ]
  },
  {
   "cell_type": "code",
   "execution_count": 119,
   "metadata": {
    "collapsed": false
   },
   "outputs": [],
   "source": [
    "#clean test data\n",
    "index = [i for i in range(test_vectors.shape[0]) if np.sum(test_vectors[i]) == 0]\n",
    "clean_test_vectors = np.delete(test_vectors,index,axis=0)\n",
    "clean_test_label = np.delete(test_label,index,axis=0)"
   ]
  },
  {
   "cell_type": "markdown",
   "metadata": {},
   "source": [
    "#PCA"
   ]
  },
  {
   "cell_type": "code",
   "execution_count": 161,
   "metadata": {
    "collapsed": false
   },
   "outputs": [],
   "source": [
    "def rank_q(val,vec,q):\n",
    "    pca_index = []\n",
    "    pairs = [(np.abs(val[i]),vec[:,i]) for i in range(len(val))]\n",
    "    sorts = sorted(pairs)#,key = lambda x:x[0],reverse=True)\n",
    "    for each in sorts[:q:-1]:\n",
    "        pca_index.append(pairs.index(each))\n",
    "    return sorts[:q],pca_label\n",
    "def PCA(train,q):\n",
    "    cov = np.cov(train.T)\n",
    "    eigVal,eigVec = np.linalg.eig(cov)\n",
    "    top_q,index_100 = rank_q(eigVal,eigVec,q)\n",
    "    W = np.asarray([x[1] for x in top_q]).T\n",
    "    transformed = train.dot(W)\n",
    "    return transformed,index_100\n"
   ]
  },
  {
   "cell_type": "code",
   "execution_count": 162,
   "metadata": {
    "collapsed": false
   },
   "outputs": [
    {
     "ename": "ValueError",
     "evalue": "The truth value of an array with more than one element is ambiguous. Use a.any() or a.all()",
     "output_type": "error",
     "traceback": [
      "\u001b[0;31m---------------------------------------------------------------------------\u001b[0m",
      "\u001b[0;31mValueError\u001b[0m                                Traceback (most recent call last)",
      "\u001b[0;32m<ipython-input-162-751975c09361>\u001b[0m in \u001b[0;36m<module>\u001b[0;34m()\u001b[0m\n\u001b[1;32m      1\u001b[0m \u001b[0;31m#transformed_10,index_10 = PCA(train_vectors,10)\u001b[0m\u001b[0;34m\u001b[0m\u001b[0;34m\u001b[0m\u001b[0m\n\u001b[1;32m      2\u001b[0m \u001b[0;31m#transformed_50,index_50 = PCA(train_vectors,50)\u001b[0m\u001b[0;34m\u001b[0m\u001b[0;34m\u001b[0m\u001b[0m\n\u001b[0;32m----> 3\u001b[0;31m \u001b[0mtransformed_100\u001b[0m\u001b[0;34m,\u001b[0m\u001b[0mindex_100\u001b[0m \u001b[0;34m=\u001b[0m \u001b[0mPCA\u001b[0m\u001b[0;34m(\u001b[0m\u001b[0mtrain_vectors\u001b[0m\u001b[0;34m,\u001b[0m\u001b[0;36m100\u001b[0m\u001b[0;34m)\u001b[0m\u001b[0;34m\u001b[0m\u001b[0m\n\u001b[0m",
      "\u001b[0;32m<ipython-input-161-d9c865ecb23e>\u001b[0m in \u001b[0;36mPCA\u001b[0;34m(train, q)\u001b[0m\n\u001b[1;32m      9\u001b[0m     \u001b[0mcov\u001b[0m \u001b[0;34m=\u001b[0m \u001b[0mnp\u001b[0m\u001b[0;34m.\u001b[0m\u001b[0mcov\u001b[0m\u001b[0;34m(\u001b[0m\u001b[0mtrain\u001b[0m\u001b[0;34m.\u001b[0m\u001b[0mT\u001b[0m\u001b[0;34m)\u001b[0m\u001b[0;34m\u001b[0m\u001b[0m\n\u001b[1;32m     10\u001b[0m     \u001b[0meigVal\u001b[0m\u001b[0;34m,\u001b[0m\u001b[0meigVec\u001b[0m \u001b[0;34m=\u001b[0m \u001b[0mnp\u001b[0m\u001b[0;34m.\u001b[0m\u001b[0mlinalg\u001b[0m\u001b[0;34m.\u001b[0m\u001b[0meig\u001b[0m\u001b[0;34m(\u001b[0m\u001b[0mcov\u001b[0m\u001b[0;34m)\u001b[0m\u001b[0;34m\u001b[0m\u001b[0m\n\u001b[0;32m---> 11\u001b[0;31m     \u001b[0mtop_q\u001b[0m\u001b[0;34m,\u001b[0m\u001b[0mindex_100\u001b[0m \u001b[0;34m=\u001b[0m \u001b[0mrank_q\u001b[0m\u001b[0;34m(\u001b[0m\u001b[0meigVal\u001b[0m\u001b[0;34m,\u001b[0m\u001b[0meigVec\u001b[0m\u001b[0;34m,\u001b[0m\u001b[0mq\u001b[0m\u001b[0;34m)\u001b[0m\u001b[0;34m\u001b[0m\u001b[0m\n\u001b[0m\u001b[1;32m     12\u001b[0m     \u001b[0mW\u001b[0m \u001b[0;34m=\u001b[0m \u001b[0mnp\u001b[0m\u001b[0;34m.\u001b[0m\u001b[0masarray\u001b[0m\u001b[0;34m(\u001b[0m\u001b[0;34m[\u001b[0m\u001b[0mx\u001b[0m\u001b[0;34m[\u001b[0m\u001b[0;36m1\u001b[0m\u001b[0;34m]\u001b[0m \u001b[0;32mfor\u001b[0m \u001b[0mx\u001b[0m \u001b[0;32min\u001b[0m \u001b[0mtop_q\u001b[0m\u001b[0;34m]\u001b[0m\u001b[0;34m)\u001b[0m\u001b[0;34m.\u001b[0m\u001b[0mT\u001b[0m\u001b[0;34m\u001b[0m\u001b[0m\n\u001b[1;32m     13\u001b[0m     \u001b[0mtransformed\u001b[0m \u001b[0;34m=\u001b[0m \u001b[0mtrain\u001b[0m\u001b[0;34m.\u001b[0m\u001b[0mdot\u001b[0m\u001b[0;34m(\u001b[0m\u001b[0mW\u001b[0m\u001b[0;34m)\u001b[0m\u001b[0;34m\u001b[0m\u001b[0m\n",
      "\u001b[0;32m<ipython-input-161-d9c865ecb23e>\u001b[0m in \u001b[0;36mrank_q\u001b[0;34m(val, vec, q)\u001b[0m\n\u001b[1;32m      2\u001b[0m     \u001b[0mpca_index\u001b[0m \u001b[0;34m=\u001b[0m \u001b[0;34m[\u001b[0m\u001b[0;34m]\u001b[0m\u001b[0;34m\u001b[0m\u001b[0m\n\u001b[1;32m      3\u001b[0m     \u001b[0mpairs\u001b[0m \u001b[0;34m=\u001b[0m \u001b[0;34m[\u001b[0m\u001b[0;34m(\u001b[0m\u001b[0mnp\u001b[0m\u001b[0;34m.\u001b[0m\u001b[0mabs\u001b[0m\u001b[0;34m(\u001b[0m\u001b[0mval\u001b[0m\u001b[0;34m[\u001b[0m\u001b[0mi\u001b[0m\u001b[0;34m]\u001b[0m\u001b[0;34m)\u001b[0m\u001b[0;34m,\u001b[0m\u001b[0mvec\u001b[0m\u001b[0;34m[\u001b[0m\u001b[0;34m:\u001b[0m\u001b[0;34m,\u001b[0m\u001b[0mi\u001b[0m\u001b[0;34m]\u001b[0m\u001b[0;34m)\u001b[0m \u001b[0;32mfor\u001b[0m \u001b[0mi\u001b[0m \u001b[0;32min\u001b[0m \u001b[0mrange\u001b[0m\u001b[0;34m(\u001b[0m\u001b[0mlen\u001b[0m\u001b[0;34m(\u001b[0m\u001b[0mval\u001b[0m\u001b[0;34m)\u001b[0m\u001b[0;34m)\u001b[0m\u001b[0;34m]\u001b[0m\u001b[0;34m\u001b[0m\u001b[0m\n\u001b[0;32m----> 4\u001b[0;31m     \u001b[0msorts\u001b[0m \u001b[0;34m=\u001b[0m \u001b[0msorted\u001b[0m\u001b[0;34m(\u001b[0m\u001b[0mpairs\u001b[0m\u001b[0;34m)\u001b[0m\u001b[0;31m#,key = lambda x:x[0],reverse=True)\u001b[0m\u001b[0;34m\u001b[0m\u001b[0m\n\u001b[0m\u001b[1;32m      5\u001b[0m     \u001b[0;32mfor\u001b[0m \u001b[0meach\u001b[0m \u001b[0;32min\u001b[0m \u001b[0msorts\u001b[0m\u001b[0;34m[\u001b[0m\u001b[0;34m:\u001b[0m\u001b[0mq\u001b[0m\u001b[0;34m:\u001b[0m\u001b[0;34m-\u001b[0m\u001b[0;36m1\u001b[0m\u001b[0;34m]\u001b[0m\u001b[0;34m:\u001b[0m\u001b[0;34m\u001b[0m\u001b[0m\n\u001b[1;32m      6\u001b[0m         \u001b[0mpca_index\u001b[0m\u001b[0;34m.\u001b[0m\u001b[0mappend\u001b[0m\u001b[0;34m(\u001b[0m\u001b[0mpairs\u001b[0m\u001b[0;34m.\u001b[0m\u001b[0mindex\u001b[0m\u001b[0;34m(\u001b[0m\u001b[0meach\u001b[0m\u001b[0;34m)\u001b[0m\u001b[0;34m)\u001b[0m\u001b[0;34m\u001b[0m\u001b[0m\n",
      "\u001b[0;31mValueError\u001b[0m: The truth value of an array with more than one element is ambiguous. Use a.any() or a.all()"
     ]
    }
   ],
   "source": [
    "#transformed_10,index_10 = PCA(train_vectors,10)\n",
    "#transformed_50,index_50 = PCA(train_vectors,50)\n",
    "transformed_100,index_100 = PCA(train_vectors,100)"
   ]
  },
  {
   "cell_type": "code",
   "execution_count": 95,
   "metadata": {
    "collapsed": false
   },
   "outputs": [],
   "source": [
    "#test custom PCA with existing one\n",
    "from sklearn.decomposition import PCA\n",
    "def compare(custom,q):\n",
    "    pca = PCA(q)\n",
    "    pca.fit(train_vectors)\n",
    "    t = pca.transform(train_vectors)\n",
    "    cp = np.in1d(custom,t)\n",
    "    ratio = len([i for i in cp if i == True])/len(custom)\n",
    "    return ratio"
   ]
  },
  {
   "cell_type": "code",
   "execution_count": null,
   "metadata": {
    "collapsed": true
   },
   "outputs": [],
   "source": []
  },
  {
   "cell_type": "code",
   "execution_count": 113,
   "metadata": {
    "collapsed": false
   },
   "outputs": [],
   "source": [
    "test_10 = PCA(clean_test_vectors,10)\n",
    "test_50 = PCA(clean_test_vectors,50)\n",
    "test_100 = PCA(clean_test_vectors,100)"
   ]
  },
  {
   "cell_type": "code",
   "execution_count": 114,
   "metadata": {
    "collapsed": false
   },
   "outputs": [
    {
     "data": {
      "text/plain": [
       "array([ 0.00409673+0.j,  0.00773421+0.j,  0.00531587+0.j, -0.00882369+0.j,\n",
       "       -0.00075328+0.j,  0.00829155+0.j, -0.01065542+0.j,  0.01335769+0.j,\n",
       "       -0.00184152+0.j, -0.01476756+0.j])"
      ]
     },
     "execution_count": 114,
     "metadata": {},
     "output_type": "execute_result"
    }
   ],
   "source": [
    "transformed_10[3]"
   ]
  },
  {
   "cell_type": "markdown",
   "metadata": {},
   "source": [
    "# Normalization"
   ]
  },
  {
   "cell_type": "code",
   "execution_count": 115,
   "metadata": {
    "collapsed": true
   },
   "outputs": [],
   "source": [
    "#normalize the data\n",
    "def normalization(train):\n",
    "    train = np.asarray(train)\n",
    "    s_train = []\n",
    "    for i in range(train.shape[0]):\n",
    "        s_train.append(train[i]/np.sqrt(np.sum((train[i])**2)))\n",
    "    return np.asarray(s_train)"
   ]
  },
  {
   "cell_type": "code",
   "execution_count": 116,
   "metadata": {
    "collapsed": true
   },
   "outputs": [],
   "source": [
    "normalize_train_10 = normalization(transformed_10)\n",
    "normalize_train_50 = normalization(transformed_50)\n",
    "normalize_train_100 = normalization(transformed_100)"
   ]
  },
  {
   "cell_type": "code",
   "execution_count": 117,
   "metadata": {
    "collapsed": false
   },
   "outputs": [],
   "source": [
    "normalize_test_10 = normalization(test_10)\n",
    "normalize_test_50 = normalization(test_50)\n",
    "normalize_test_100 = normalization(test_100)"
   ]
  },
  {
   "cell_type": "code",
   "execution_count": 158,
   "metadata": {
    "collapsed": false
   },
   "outputs": [
    {
     "name": "stdout",
     "output_type": "stream",
     "text": [
      "0.510887772194\n",
      "[[210  87]\n",
      " [205  95]]\n",
      "['recommended', 'fan']\n",
      "['recommended', 'fan']\n",
      "['recommended', 'fan']\n",
      "['recommended', 'fan']\n",
      "['recommended', 'fan']\n",
      "['recommended', 'fan']\n",
      "['recommended', 'fan']\n",
      "['recommended', 'fan']\n",
      "['recommended', 'fan']\n",
      "['recommended', 'fan']\n",
      "['recommended', 'fan']\n",
      "['recommended', 'fan']\n",
      "['recommended', 'fan']\n",
      "['recommended', 'fan']\n",
      "['recommended', 'fan']\n",
      "['recommended', 'fan']\n",
      "['recommended', 'fan']\n",
      "['recommended', 'fan']\n",
      "['recommended', 'fan']\n",
      "['recommended', 'fan']\n",
      "['recommended', 'fan']\n",
      "['recommended', 'fan']\n",
      "['recommended', 'fan']\n",
      "['recommended', 'fan']\n",
      "['recommended', 'fan']\n",
      "['recommended', 'fan']\n",
      "['recommended', 'fan']\n",
      "['recommended', 'fan']\n",
      "['recommended', 'fan']\n",
      "['recommended', 'fan']\n",
      "['recommended', 'fan']\n",
      "['recommended', 'fan']\n",
      "['recommended', 'fan']\n",
      "['recommended', 'fan']\n",
      "['recommended', 'fan']\n",
      "['recommended', 'fan']\n",
      "['recommended', 'fan']\n",
      "['recommended', 'fan']\n",
      "['recommended', 'fan']\n",
      "['recommended', 'fan']\n",
      "['recommended', 'fan']\n",
      "['recommended', 'fan']\n",
      "['recommended', 'fan']\n",
      "['recommended', 'fan']\n",
      "['recommended', 'fan']\n",
      "['recommended', 'fan']\n",
      "['recommended', 'fan']\n",
      "['recommended', 'fan']\n",
      "['recommended', 'fan']\n",
      "['recommended', 'fan']\n",
      "['recommended', 'fan']\n",
      "['recommended', 'fan']\n",
      "['recommended', 'fan']\n",
      "['recommended', 'fan']\n",
      "['recommended', 'fan']\n",
      "['recommended', 'fan']\n",
      "['recommended', 'fan']\n",
      "['recommended', 'fan']\n",
      "['recommended', 'fan']\n",
      "['recommended', 'fan']\n",
      "['recommended', 'fan']\n",
      "['recommended', 'fan']\n",
      "['recommended', 'fan']\n",
      "['recommended', 'fan']\n",
      "['recommended', 'fan']\n",
      "['recommended', 'fan']\n",
      "['recommended', 'fan']\n",
      "['recommended', 'fan']\n",
      "['recommended', 'fan']\n",
      "['recommended', 'fan']\n",
      "['recommended', 'fan']\n",
      "['recommended', 'fan']\n",
      "['recommended', 'fan']\n",
      "['recommended', 'fan']\n",
      "['recommended', 'fan']\n",
      "['recommended', 'fan']\n",
      "['recommended', 'fan']\n",
      "['recommended', 'fan']\n",
      "['recommended', 'fan']\n",
      "['recommended', 'fan']\n",
      "['recommended', 'fan']\n",
      "['recommended', 'fan']\n",
      "['recommended', 'fan']\n",
      "['recommended', 'fan']\n",
      "['recommended', 'fan']\n",
      "['recommended', 'fan']\n",
      "['recommended', 'fan']\n",
      "['recommended', 'fan']\n",
      "['recommended', 'fan']\n",
      "['recommended', 'fan']\n",
      "['recommended', 'fan']\n",
      "['recommended', 'fan']\n",
      "['recommended', 'fan']\n",
      "['recommended', 'fan']\n",
      "['recommended', 'fan']\n",
      "['recommended', 'fan']\n",
      "['recommended', 'fan']\n",
      "['recommended', 'fan']\n",
      "['recommended', 'fan']\n",
      "['recommended', 'fan']\n"
     ]
    },
    {
     "data": {
      "image/png": "[encoded data removed]",
      "text/plain": [
       "<matplotlib.figure.Figure at 0x1056df950>"
      ]
     },
     "metadata": {},
     "output_type": "display_data"
    }
   ],
   "source": [
    "from sklearn.linear_model import LogisticRegression\n",
    "clf = LogisticRegression()\n",
    "clf.fit(transformed_10,train_label)\n",
    "#report accuracy of logistic regression\n",
    "pred = clf.predict(test_10)\n",
    "accuracy = clf.score(test_10,clean_test_label)\n",
    "print accuracy\n",
    "from sklearn.metrics import confusion_matrix\n",
    "def plot_cm(true,pred):\n",
    "    cm = confusion_matrix(true,pred)\n",
    "    print cm\n",
    "    plt.imshow(cm, interpolation='nearest')\n",
    "    plt.colorbar()\n",
    "    tick_marks = np.array([0,1])\n",
    "    plt.xticks(tick_marks, [0,1])\n",
    "    plt.yticks(tick_marks, [0,1])\n",
    "    plt.ylabel('True label')\n",
    "    plt.xlabel('Predicted label')\n",
    "plot_cm(clean_test_label,pred)\n",
    "maxs = sorted(clf.coef_[0])[len(clf.coef_)-21:]\n",
    "train_dic = []\n",
    "import csv\n",
    "with open('train_dic.txt','r') as f:\n",
    "    reader = csv.reader(f)\n",
    "    for line in reader:\n",
    "        train_dic.append(line)\n",
    "def buildDic(data,N):\n",
    "    uniq = []\n",
    "    ngrams = []\n",
    "    for line in data:\n",
    "        ngrams.extend([line[i:i+N] for i in range(len(line)-(N-1))])\n",
    "    for each in ngrams:\n",
    "        if each not in uniq:\n",
    "            uniq.append(each)\n",
    "    return uniq\n",
    "dic = buildDic(train_dic,2)\n",
    "#print max_5\n",
    "key = []\n",
    "#for each in maxs:\n",
    "#    index = [i for i in range(clf.coef_.shape[1]) if clf.coef_[0][i] == each]\n",
    "#    print dic[index_100[index[0]]]\n",
    "for each in index_100:\n",
    "    print dic[each]\n",
    "#print keywords"
   ]
  },
  {
   "cell_type": "code",
   "execution_count": 128,
   "metadata": {
    "collapsed": false
   },
   "outputs": [
    {
     "name": "stdout",
     "output_type": "stream",
     "text": [
      "0.515912897822\n",
      "[[182 115]\n",
      " [174 126]]\n"
     ]
    },
    {
     "data": {
      "image/png": "[encoded data removed]",
      "text/plain": [
       "<matplotlib.figure.Figure at 0x109082510>"
      ]
     },
     "metadata": {},
     "output_type": "display_data"
    }
   ],
   "source": [
    "clf = LogisticRegression()\n",
    "clf.fit(transformed_50,train_label)\n",
    "#report accuracy of logistic regression\n",
    "pred = clf.predict(test_50)\n",
    "accuracy = clf.score(test_50,clean_test_label)\n",
    "print accuracy\n",
    "plot_cm(clean_test_label,pred)"
   ]
  },
  {
   "cell_type": "code",
   "execution_count": 129,
   "metadata": {
    "collapsed": false
   },
   "outputs": [
    {
     "name": "stdout",
     "output_type": "stream",
     "text": [
      "0.529313232831\n",
      "[[174 123]\n",
      " [158 142]]\n"
     ]
    },
    {
     "data": {
      "image/png": "[encoded data removed]",
      "text/plain": [
       "<matplotlib.figure.Figure at 0x109c65ed0>"
      ]
     },
     "metadata": {},
     "output_type": "display_data"
    }
   ],
   "source": [
    "clf = LogisticRegression()\n",
    "clf.fit(transformed_100,train_label)\n",
    "#report accuracy of logistic regression\n",
    "pred = clf.predict(test_100)\n",
    "accuracy = clf.score(test_100,clean_test_label)\n",
    "print accuracy\n",
    "plot_cm(clean_test_label,pred)"
   ]
  },
  {
   "cell_type": "code",
   "execution_count": 130,
   "metadata": {
    "collapsed": true
   },
   "outputs": [],
   "source": [
    "# k-means implementation\n",
    "from scipy.spatial import distance\n",
    "def k_means(train,threshold):\n",
    "    #initial centroid\n",
    "    new_m1 = train[np.random.randint(len(train))]\n",
    "    new_m2 = train[np.random.randint(len(train))]\n",
    "    diff = 1000\n",
    "#keep interation until the different between new centroid and old centriod go under the treshold\n",
    "    while(diff > threshold):\n",
    "        c1, c2= [],[]\n",
    "        c1_label,c2_label = [],[]\n",
    "        m1,m2 = new_m1,new_m2\n",
    "        print np.sum(m1),np.sum(m2)\n",
    "        for i,line in enumerate(train):\n",
    "#            print np.sum(line)\n",
    "            dis1 = np.sqrt(sum((line - m1) ** 2))\n",
    "            dis2 = np.sqrt(sum((line - m2) ** 2))\n",
    "#            print \"dis:\",dis1,dis2\n",
    "            #assign each sample to nearest centroid\n",
    "            if(dis1 > dis2):\n",
    "                c2.append(line)\n",
    "                c2_label.append(train_label[i]);\n",
    "            if(dis1 < dis2):\n",
    "                c1.append(line)\n",
    "                c1_label.append(train_label[i]);\n",
    "            if(dis1 == dis2):\n",
    "                x = np.random.randint(2);\n",
    "                if(x == 0):\n",
    "                    c1.append(line)\n",
    "                    c1_label.append(train_label[i]);\n",
    "                if(x == 1):\n",
    "                    c2.append(line) \n",
    "                    c2_label.append(train_label[i]);\n",
    "        #adjust centroid\n",
    "        new_m1 = np.mean(np.asarray(c1),axis = 0)\n",
    "        new_m2 = np.mean(np.asarray(c2),axis = 0)\n",
    "        print \"new\",np.sum(new_m1),np.sum(new_m2)\n",
    "        #compute the difference between new centroids and old centroids\n",
    "        diff = (np.sqrt(sum((new_m1 - m1) ** 2)) + np.sqrt(sum((new_m2 - m2) ** 2)))/2\n",
    "        print \"diff\",diff\n",
    "    return new_m1,new_m2,c1,c2,c1_label,c2_label  "
   ]
  },
  {
   "cell_type": "code",
   "execution_count": 136,
   "metadata": {
    "collapsed": false
   },
   "outputs": [
    {
     "name": "stdout",
     "output_type": "stream",
     "text": [
      "(-0.933063606445+0j) (0.273365697884+0j)\n",
      "new (-0.0457251111095+0j) (-0.0264151533167+0j)\n",
      "diff (0.970721501902+0j)\n",
      "(-0.0457251111095+0j) (-0.0264151533167+0j)\n",
      "new (0.00281915364286+0j) (-0.0797574738949+0j)\n",
      "diff (0.0832293141715+0j)\n"
     ]
    }
   ],
   "source": [
    "m1,m2,c1,c2,c1_label,c2_label = k_means(normalize_train_100,0.5)"
   ]
  },
  {
   "cell_type": "code",
   "execution_count": 137,
   "metadata": {
    "collapsed": true
   },
   "outputs": [],
   "source": [
    "def vote(c):\n",
    "    count0 = len([i for i in c if i == 0.0])\n",
    "    count1 = len([i for i in c if i == 1.0])\n",
    "#    print count0,count1\n",
    "    if(count0 > count1):\n",
    "        return 0.0\n",
    "    else:\n",
    "        return 1.0\n"
   ]
  },
  {
   "cell_type": "code",
   "execution_count": 138,
   "metadata": {
    "collapsed": true
   },
   "outputs": [],
   "source": [
    "vote_c1 =vote(c1_label)\n",
    "vote_c2 = vote(c2_label)"
   ]
  },
  {
   "cell_type": "code",
   "execution_count": 139,
   "metadata": {
    "collapsed": true
   },
   "outputs": [],
   "source": [
    "#evaluate performance of k-menas\n",
    "def evaluation(c1_label,vote_c1,c2_label,vote_c2):\n",
    "    ratio1 = len([i for i in c1_label if i == vote_c1])/float(len(c1_label))\n",
    "    ratio2 = len([i for i in c2_label if i == vote_c2])/float(len(c2_label))\n",
    "    print \"cluster 1 score:\",ratio1,\"cluster2 score:\",ratio2\n",
    "    ratio = (len([i for i in c1_label if i == vote_c1])+len([i for i in c2_label if i == vote_c2]))/float((len(c1_label)+len(c2_label)))\n",
    "    return ratio"
   ]
  },
  {
   "cell_type": "code",
   "execution_count": 140,
   "metadata": {
    "collapsed": false
   },
   "outputs": [
    {
     "name": "stdout",
     "output_type": "stream",
     "text": [
      "cluster 1 score: 0.598997493734 cluster2 score: 0.598503740648\n"
     ]
    },
    {
     "data": {
      "text/plain": [
       "0.59875"
      ]
     },
     "execution_count": 140,
     "metadata": {},
     "output_type": "execute_result"
    }
   ],
   "source": [
    "evaluation(c1_label,vote_c1,c2_label,vote_c2)"
   ]
  },
  {
   "cell_type": "code",
   "execution_count": null,
   "metadata": {
    "collapsed": true
   },
   "outputs": [],
   "source": []
  }
 ],
 "metadata": {
  "kernelspec": {
   "display_name": "Python 2",
   "language": "python",
   "name": "python2"
  },
  "language_info": {
   "codemirror_mode": {
    "name": "ipython",
    "version": 2
   },
   "file_extension": ".py",
   "mimetype": "text/x-python",
   "name": "python",
   "nbconvert_exporter": "python",
   "pygments_lexer": "ipython2",
   "version": "2.7.10"
  }
 },
 "nbformat": 4,
 "nbformat_minor": 0
}

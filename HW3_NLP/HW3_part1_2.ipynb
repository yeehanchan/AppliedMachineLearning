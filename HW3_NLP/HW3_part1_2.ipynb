{
 "cells": [
  {
   "cell_type": "code",
   "execution_count": 207,
   "metadata": {
    "collapsed": false
   },
   "outputs": [
    {
     "name": "stdout",
     "output_type": "stream",
     "text": [
      "Populating the interactive namespace from numpy and matplotlib\n"
     ]
    },
    {
     "name": "stderr",
     "output_type": "stream",
     "text": [
      "WARNING: pylab import has clobbered these variables: ['normalize']\n",
      "`%matplotlib` prevents importing * from pylab and numpy\n"
     ]
    }
   ],
   "source": [
    "%pylab inline\n",
    "import rlcompleter, readline\n",
    "readline.parse_and_bind('tab: complete')"
   ]
  },
  {
   "cell_type": "code",
   "execution_count": 206,
   "metadata": {
    "collapsed": true
   },
   "outputs": [],
   "source": [
    "train_label = np.genfromtxt('label.txt')\n",
    "test_label = np.asarray([1]*300+[0]*300)"
   ]
  },
  {
   "cell_type": "code",
   "execution_count": 5,
   "metadata": {
    "collapsed": false
   },
   "outputs": [],
   "source": [
    "train_vectors = np.genfromtxt('train_feature_vectors.txt')\n",
    "test_vectors = np.genfromtxt('test_feature_vectors.txt')"
   ]
  },
  {
   "cell_type": "code",
   "execution_count": 233,
   "metadata": {
    "collapsed": false
   },
   "outputs": [
    {
     "data": {
      "text/plain": [
       "((597, 4361), (597,))"
      ]
     },
     "execution_count": 233,
     "metadata": {},
     "output_type": "execute_result"
    }
   ],
   "source": [
    "# there are samples in testing set that doesn't contain any words in dictionary\n",
    "#which means the feature_vectors are empty.\n",
    "index = [i for i in range(test_vectors.shape[0]) if np.sum(test_vectors[i]) == 0]\n",
    "clean_test_vectors = np.delete(test_vectors,index,0)\n",
    "clean_test_label = np.delete(test_label,index,0)\n",
    "clean_test_vectors.shape,clean_test_label.shape\n",
    "#after cleaning, 597 testing sample remain"
   ]
  },
  {
   "cell_type": "code",
   "execution_count": 264,
   "metadata": {
    "collapsed": false
   },
   "outputs": [
    {
     "data": {
      "text/plain": [
       "(597,)"
      ]
     },
     "execution_count": 264,
     "metadata": {},
     "output_type": "execute_result"
    }
   ],
   "source": [
    "train_dic = np.genfromtxt('train_dic.txt')\n",
    "test_dic = np.genfromtxt('test_dic.txt')\n",
    "clean_test_dic = np.delete(test_dic,index,0)\n",
    "clean_test_dic.shape"
   ]
  },
  {
   "cell_type": "markdown",
   "metadata": {},
   "source": [
    "#Weighting strategy"
   ]
  },
  {
   "cell_type": "code",
   "execution_count": 7,
   "metadata": {
    "collapsed": true
   },
   "outputs": [],
   "source": [
    "#I tried to nomalize the term-frequency vectors and apply the data into k-means. The performance is not desirable.\n",
    "#I found that many fecture vectors have same distances with each cluster centriods.\n",
    "#I guess that's because using frequency of words can't well differentiate each feacture vectors.\n",
    "#therefore I apply tf-idf strategy to weighting the words.\n",
    "#reference resource: http://blog.christianperone.com/2011/10/machine-learning-text-feature-extraction-tf-idf-part-ii/\n",
    "def tf_idf(train_vectors):\n",
    "    tf_idf_train = np.zeros_like(train_vectors)\n",
    "    for i in range(train_vectors.shape[1]):\n",
    "        tf_idf_train[:,i] = np.log(len(train_vectors)/1+np.count_nonzero(train_vectors[:,i])) * train_vectors[:,i]\n",
    "    return tf_idf_train"
   ]
  },
  {
   "cell_type": "code",
   "execution_count": 235,
   "metadata": {
    "collapsed": false
   },
   "outputs": [],
   "source": [
    "tf_idf_train = tf_idf(train_vectors)\n",
    "tf_idf_test = tf_idf(clean_test_vectors)"
   ]
  },
  {
   "cell_type": "markdown",
   "metadata": {},
   "source": [
    "#Normalization After Weighting"
   ]
  },
  {
   "cell_type": "code",
   "execution_count": 236,
   "metadata": {
    "collapsed": true
   },
   "outputs": [],
   "source": [
    "#normalize the data\n",
    "#there are many zero elements in matrix. So if there is words with really high frequencies, that might account to bias.\n",
    "#to reduce the influence of high frequency words.\n",
    "def normalization(train):\n",
    "    train = np.asarray(train)\n",
    "    s_train = []\n",
    "    for i in range(train.shape[0]):\n",
    "        s_train.append(train[i]/np.sqrt(np.sum((train[i])**2)))\n",
    "    return np.asarray(s_train)"
   ]
  },
  {
   "cell_type": "code",
   "execution_count": 237,
   "metadata": {
    "collapsed": false
   },
   "outputs": [],
   "source": [
    "normalize_train = normalization(tf_idf_train)\n",
    "normalize_test = normalization(tf_idf_test)"
   ]
  },
  {
   "cell_type": "code",
   "execution_count": 238,
   "metadata": {
    "collapsed": false
   },
   "outputs": [
    {
     "data": {
      "text/plain": [
       "[0.70994625327525807, 0.704255860792385]"
      ]
     },
     "execution_count": 238,
     "metadata": {},
     "output_type": "execute_result"
    }
   ],
   "source": [
    "[i for i in normalize_train[1] if i != 0]"
   ]
  },
  {
   "cell_type": "markdown",
   "metadata": {},
   "source": [
    "#Clustering"
   ]
  },
  {
   "cell_type": "markdown",
   "metadata": {},
   "source": [
    "#K-means"
   ]
  },
  {
   "cell_type": "code",
   "execution_count": 239,
   "metadata": {
    "collapsed": true
   },
   "outputs": [],
   "source": [
    "# k-means implementation\n",
    "from scipy.spatial import distance\n",
    "def k_means(train,threshold):\n",
    "    #initial centroid\n",
    "    new_m1 = train[np.random.randint(len(train))]\n",
    "    new_m2 = train[np.random.randint(len(train))]\n",
    "    diff = 1000\n",
    "#keep interation until the different between new centroid and old centriod go under the treshold\n",
    "    while(diff > threshold):\n",
    "        c1, c2= [],[]\n",
    "        c1_label,c2_label = [],[]\n",
    "        m1,m2 = new_m1,new_m2\n",
    "        print np.sum(m1),np.sum(m2)\n",
    "        for i,line in enumerate(train):\n",
    "#            print np.sum(line)\n",
    "            dis1 = np.sqrt(sum((line - m1) ** 2))\n",
    "            dis2 = np.sqrt(sum((line - m2) ** 2))\n",
    "#            print \"dis:\",dis1,dis2\n",
    "            #assign each sample to nearest centroid\n",
    "            if(dis1 > dis2):\n",
    "                c2.append(line)\n",
    "                c2_label.append(label[i]);\n",
    "            if(dis1 < dis2):\n",
    "                c1.append(line)\n",
    "                c1_label.append(label[i]);\n",
    "            if(dis1 == dis2):\n",
    "                x = np.random.randint(2);\n",
    "                if(x == 0):\n",
    "                    c1.append(line)\n",
    "                    c1_label.append(label[i]);\n",
    "                if(x == 1):\n",
    "                    c2.append(line) \n",
    "                    c2_label.append(label[i]);\n",
    "        #adjust centroid\n",
    "        new_m1 = np.mean(np.asarray(c1),axis = 0)\n",
    "        new_m2 = np.mean(np.asarray(c2),axis = 0)\n",
    "        print \"new\",np.sum(new_m1),np.sum(new_m2)\n",
    "        #compute the difference between new centroids and old centroids\n",
    "        diff = (np.sqrt(sum((new_m1 - m1) ** 2)) + np.sqrt(sum((new_m2 - m2) ** 2)))/2\n",
    "        print \"diff\",diff\n",
    "    return new_m1,new_m2,c1,c2,c1_label,c2_label  "
   ]
  },
  {
   "cell_type": "code",
   "execution_count": 355,
   "metadata": {
    "collapsed": false,
    "scrolled": true
   },
   "outputs": [
    {
     "name": "stdout",
     "output_type": "stream",
     "text": [
      "4.35888869103 2.64574141828\n",
      "new 2.64922110891 2.2714863034\n",
      "diff 0.978722185343\n",
      "2.64922110891 2.2714863034\n",
      "new 2.88776806493 2.29631920676\n",
      "diff 0.0897457062813\n",
      "[ 0.          0.          0.         ...,  0.          0.          0.00141879] [ 0.00016928  0.00023969  0.00027689 ...,  0.00019568  0.00021392\n",
      "  0.00061465]\n"
     ]
    }
   ],
   "source": [
    "m1,m2,c1,c2,c1_labe1,c2_label = k_means(normalize_train,0.5)\n",
    "print m1,m2"
   ]
  },
  {
   "cell_type": "code",
   "execution_count": 241,
   "metadata": {
    "collapsed": false,
    "scrolled": true
   },
   "outputs": [],
   "source": [
    "def vote(c):\n",
    "    count0 = len([i for i in c if i == 0.0])\n",
    "    count1 = len([i for i in c if i == 1.0])\n",
    "#    print count0,count1\n",
    "    if(count0 > count1):\n",
    "        return 0.0\n",
    "    else:\n",
    "        return 1.0"
   ]
  },
  {
   "cell_type": "code",
   "execution_count": 354,
   "metadata": {
    "collapsed": false
   },
   "outputs": [
    {
     "data": {
      "text/plain": [
       "1860"
      ]
     },
     "execution_count": 354,
     "metadata": {},
     "output_type": "execute_result"
    }
   ],
   "source": [
    "vote_c1 = vote(c1_label)\n",
    "vote_c2 = vote(c2_label)\n",
    "len(c1)"
   ]
  },
  {
   "cell_type": "code",
   "execution_count": 243,
   "metadata": {
    "collapsed": false
   },
   "outputs": [
    {
     "data": {
      "text/plain": [
       "(1.0, 1.0)"
      ]
     },
     "execution_count": 243,
     "metadata": {},
     "output_type": "execute_result"
    }
   ],
   "source": [
    "vote_c1,vote_c2"
   ]
  },
  {
   "cell_type": "code",
   "execution_count": 244,
   "metadata": {
    "collapsed": false
   },
   "outputs": [],
   "source": [
    "#evaluate performance of k-menas\n",
    "def evaluation(c1_label,vote_c1,c2_label,vote_c2):\n",
    "    ratio1 = len([i for i in c1_label if i == vote_c1])/float(len(c1_label))\n",
    "    ratio2 = len([i for i in c2_label if i == vote_c2])/float(len(c2_label))\n",
    "    print \"cluster 1 score:\",ratio1,\"cluster2 score:\",ratio2\n",
    "    ratio = (len([i for i in c1_label if i == vote_c1])+len([i for i in c2_label if i == vote_c2]))/float((len(c1_label)+len(c2_label)))\n",
    "    return ratio\n"
   ]
  },
  {
   "cell_type": "code",
   "execution_count": 245,
   "metadata": {
    "collapsed": false
   },
   "outputs": [
    {
     "name": "stdout",
     "output_type": "stream",
     "text": [
      "cluster 1 score: 0.494086021505 cluster2 score: 0.52037037037\n"
     ]
    },
    {
     "data": {
      "text/plain": [
       "0.5"
      ]
     },
     "execution_count": 245,
     "metadata": {},
     "output_type": "execute_result"
    }
   ],
   "source": [
    "evaluation(c1_labe1,vote_c1,c2_label,vote_c2)"
   ]
  },
  {
   "cell_type": "markdown",
   "metadata": {},
   "source": [
    "#Sentiment prediction"
   ]
  },
  {
   "cell_type": "code",
   "execution_count": 282,
   "metadata": {
    "collapsed": false
   },
   "outputs": [
    {
     "name": "stdout",
     "output_type": "stream",
     "text": [
      "0.788944723618\n",
      "[[232  65]\n",
      " [ 61 239]]\n"
     ]
    },
    {
     "data": {
      "image/png": "[encoded data removed]",
      "text/plain": [
       "<matplotlib.figure.Figure at 0x104e81ad0>"
      ]
     },
     "metadata": {},
     "output_type": "display_data"
    }
   ],
   "source": [
    "from sklearn.linear_model import LogisticRegression\n",
    "clf = LogisticRegression()\n",
    "clf.fit(normalize_train,train_label)\n",
    "#report accuracy of logistic regression\n",
    "pred = clf.predict(normalize_test)\n",
    "accuracy = clf.score(normalize_test,clean_test_label)\n",
    "from sklearn.metrics import confusion_matrix\n",
    "cm = confusion_matrix(clean_test_label,pred)\n",
    "plt.imshow(cm, interpolation='nearest')\n",
    "plt.colorbar()\n",
    "tick_marks = np.array([0,1])\n",
    "plt.xticks(tick_marks, [0,1])\n",
    "plt.yticks(tick_marks, [0,1])\n",
    "plt.ylabel('True label')\n",
    "plt.xlabel('Predicted label')\n",
    "print accuracy\n",
    "print cm"
   ]
  },
  {
   "cell_type": "code",
   "execution_count": 352,
   "metadata": {
    "collapsed": false
   },
   "outputs": [
    {
     "name": "stdout",
     "output_type": "stream",
     "text": [
      "['cool', 'liked', 'interesting', 'comfortable', 'definitely', 'recommend', 'delicious', 'fine', 'fantastic', 'beautiful', 'amazing', 'loved', 'wonderful', 'well', 'good', 'nice', 'best', 'excellent', 'love', 'great']\n"
     ]
    }
   ],
   "source": [
    "dic = np.genfromtxt('dic.txt',dtype='str')\n",
    "maxs = sorted(clf.coef_[0])[len(clf.coef_)-21:]\n",
    "#print max_5\n",
    "keywords = []\n",
    "for each in maxs:\n",
    "    index = [i for i in range(clf.coef_.shape[1]) if clf.coef_[0][i] == each]\n",
    "    keywords.extend(dic[index])\n",
    "print keywords"
   ]
  },
  {
   "cell_type": "code",
   "execution_count": null,
   "metadata": {
    "collapsed": false
   },
   "outputs": [],
   "source": []
  },
  {
   "cell_type": "markdown",
   "metadata": {},
   "source": []
  },
  {
   "cell_type": "code",
   "execution_count": null,
   "metadata": {
    "collapsed": true
   },
   "outputs": [],
   "source": []
  }
 ],
 "metadata": {
  "kernelspec": {
   "display_name": "Python 2",
   "language": "python",
   "name": "python2"
  },
  "language_info": {
   "codemirror_mode": {
    "name": "ipython",
    "version": 2
   },
   "file_extension": ".py",
   "mimetype": "text/x-python",
   "name": "python",
   "nbconvert_exporter": "python",
   "pygments_lexer": "ipython2",
   "version": "2.7.10"
  }
 },
 "nbformat": 4,
 "nbformat_minor": 0
}

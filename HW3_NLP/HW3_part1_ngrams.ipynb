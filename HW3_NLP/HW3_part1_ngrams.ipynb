{
 "cells": [
  {
   "cell_type": "markdown",
   "metadata": {},
   "source": [
    "#N-Grams"
   ]
  },
  {
   "cell_type": "code",
   "execution_count": 37,
   "metadata": {
    "collapsed": false
   },
   "outputs": [
    {
     "name": "stdout",
     "output_type": "stream",
     "text": [
      "Populating the interactive namespace from numpy and matplotlib\n"
     ]
    }
   ],
   "source": [
    "%pylab inline\n",
    "import rlcompleter, readline\n",
    "readline.parse_and_bind('tab: complete')"
   ]
  },
  {
   "cell_type": "code",
   "execution_count": 51,
   "metadata": {
    "collapsed": false
   },
   "outputs": [],
   "source": [
    "import csv\n",
    "train_label = np.genfromtxt('label.txt')\n",
    "test_label = np.asarray([1]*300+[0]*300)\n",
    "train_dic = []\n",
    "test_dic = []\n",
    "with open('train_dic.txt','r') as f:\n",
    "    reader = csv.reader(f)\n",
    "    for line in reader:\n",
    "        train_dic.append(line)\n",
    "with open('test_dic.txt','r') as f:\n",
    "    reader = csv.reader(f)\n",
    "    for line in reader:\n",
    "        test_dic.append(line)"
   ]
  },
  {
   "cell_type": "markdown",
   "metadata": {},
   "source": [
    "#Build up n-gram dictionary"
   ]
  },
  {
   "cell_type": "code",
   "execution_count": 121,
   "metadata": {
    "collapsed": false
   },
   "outputs": [],
   "source": [
    "#build up n-gram dictionary\n",
    "def ngrams(data, N):\n",
    "    ngrams = []\n",
    "    for line in data:\n",
    "        ngrams.append([line[i:i+N] for i in range(len(line)-(N-1))])\n",
    "    return ngrams\n",
    "ngrams_train = ngrams(train_dic,2)\n",
    "def buildDic(data,N):\n",
    "    uniq = []\n",
    "    ngrams = []\n",
    "    for line in data:\n",
    "        ngrams.extend([line[i:i+N] for i in range(len(line)-(N-1))])\n",
    "    for each in ngrams:\n",
    "        if each not in uniq:\n",
    "            uniq.append(each)\n",
    "    return uniq"
   ]
  },
  {
   "cell_type": "code",
   "execution_count": 123,
   "metadata": {
    "collapsed": false
   },
   "outputs": [
    {
     "name": "stdout",
     "output_type": "stream",
     "text": [
      "11912\n"
     ]
    }
   ],
   "source": [
    "dic = buildDic(train_dic,2)\n",
    "print len(dic)"
   ]
  },
  {
   "cell_type": "code",
   "execution_count": 127,
   "metadata": {
    "collapsed": false
   },
   "outputs": [],
   "source": [
    "#build up feature vector\n",
    "def build_vector(train):\n",
    "    vectors = []\n",
    "    for line in train:\n",
    "        vector = [0]*len(dic)\n",
    "        for grams in line:\n",
    "            if grams in dic:\n",
    "                vector[dic.index(grams)] += 1\n",
    "        vectors.append(vector)\n",
    "    return np.asarray(vectors)"
   ]
  },
  {
   "cell_type": "code",
   "execution_count": 128,
   "metadata": {
    "collapsed": false
   },
   "outputs": [],
   "source": [
    "train_vectors = build_vector(ngrams(train_dic,2))\n",
    "test_vectors = build_vector(ngrams(test_dic,2))"
   ]
  },
  {
   "cell_type": "code",
   "execution_count": 145,
   "metadata": {
    "collapsed": false
   },
   "outputs": [
    {
     "data": {
      "text/plain": [
       "((2319, 11912), (2319,))"
      ]
     },
     "execution_count": 145,
     "metadata": {},
     "output_type": "execute_result"
    }
   ],
   "source": [
    "#clean test and training set\n",
    "# there are samples in testing set that doesn't contain any words in dictionary\n",
    "#which means the feature_vectors are empty.\n",
    "index = [i for i in range(test_vectors.shape[0]) if np.sum(test_vectors[i]) == 0]\n",
    "clean_test_vectors = np.delete(test_vectors,index,0)\n",
    "clean_test_label = np.delete(test_label,index,0)\n",
    "clean_test_vectors.shape,clean_test_label.shape\n",
    "#after cleaning, 255 testing sample remain\n",
    "\n",
    "# there are samples in training set that doesn't contain any words in dictionary\n",
    "#which means the feature_vectors are empty.\n",
    "index = [i for i in range(train_vectors.shape[0]) if np.sum(train_vectors[i]) == 0]\n",
    "clean_train_vectors = np.delete(train_vectors,index,0)\n",
    "clean_train_label = np.delete(train_label,index,0)\n",
    "clean_train_vectors.shape,clean_train_label.shape\n",
    "#after cleaning, 2319 testing sample remain"
   ]
  },
  {
   "cell_type": "code",
   "execution_count": 133,
   "metadata": {
    "collapsed": false
   },
   "outputs": [],
   "source": [
    "#normalize the data\n",
    "def normalization(train):\n",
    "    train = np.asarray(train)\n",
    "    s_train = []\n",
    "    for i in range(train.shape[0]):\n",
    "        s_train.append(train[i]/np.sqrt(np.sum((train[i])**2)))\n",
    "    return np.asarray(s_train)"
   ]
  },
  {
   "cell_type": "code",
   "execution_count": 148,
   "metadata": {
    "collapsed": false
   },
   "outputs": [],
   "source": [
    "normalize_train = normalization(clean_train_vectors)\n",
    "normalize_test = normalization(clean_test_vectors)"
   ]
  },
  {
   "cell_type": "markdown",
   "metadata": {},
   "source": [
    "#K-MEANS"
   ]
  },
  {
   "cell_type": "code",
   "execution_count": 153,
   "metadata": {
    "collapsed": false
   },
   "outputs": [],
   "source": [
    "# k-means implementation\n",
    "from scipy.spatial import distance\n",
    "def k_means(train,threshold):\n",
    "    #initial centroid\n",
    "    new_m1 = train[np.random.randint(len(train))]\n",
    "    new_m2 = train[np.random.randint(len(train))]\n",
    "    diff = 1000\n",
    "#keep interation until the different between new centroid and old centriod go under the treshold\n",
    "    while(diff > threshold):\n",
    "        c1, c2= [],[]\n",
    "        c1_label,c2_label = [],[]\n",
    "        m1,m2 = new_m1,new_m2\n",
    "        print np.sum(m1),np.sum(m2)\n",
    "        for i,line in enumerate(train):\n",
    "#            print np.sum(line)\n",
    "            dis1 = np.sqrt(sum((line - m1) ** 2))\n",
    "            dis2 = np.sqrt(sum((line - m2) ** 2))\n",
    "#            print \"dis:\",dis1,dis2\n",
    "            #assign each sample to nearest centroid\n",
    "            if(dis1 > dis2):\n",
    "                c2.append(line)\n",
    "                c2_label.append(train_label[i]);\n",
    "            if(dis1 < dis2):\n",
    "                c1.append(line)\n",
    "                c1_label.append(train_label[i]);\n",
    "            if(dis1 == dis2):\n",
    "                x = np.random.randint(2);\n",
    "                if(x == 0):\n",
    "                    c1.append(line)\n",
    "                    c1_label.append(train_label[i]);\n",
    "                if(x == 1):\n",
    "                    c2.append(line) \n",
    "                    c2_label.append(train_label[i]);\n",
    "        #adjust centroid\n",
    "        new_m1 = np.mean(np.asarray(c1),axis = 0)\n",
    "        new_m2 = np.mean(np.asarray(c2),axis = 0)\n",
    "        print \"new\",np.sum(new_m1),np.sum(new_m2)\n",
    "        #compute the difference between new centroids and old centroids\n",
    "        diff = (np.sqrt(sum((new_m1 - m1) ** 2)) + np.sqrt(sum((new_m2 - m2) ** 2)))/2\n",
    "        print \"diff\",diff\n",
    "    return new_m1,new_m2,c1,c2,c1_label,c2_label  "
   ]
  },
  {
   "cell_type": "code",
   "execution_count": 154,
   "metadata": {
    "collapsed": false
   },
   "outputs": [
    {
     "name": "stdout",
     "output_type": "stream",
     "text": [
      "2.2360679775 3.0\n",
      "new 2.17892580489 2.26811036139\n",
      "diff 0.999535393875\n",
      "2.17892580489 2.26811036139\n",
      "new 2.17913614735 2.26767269483\n",
      "diff 0.00762799250993\n"
     ]
    }
   ],
   "source": [
    "m1,m2,c1,c2,c1_label,c2_label = k_means(normalize_train,0.5)"
   ]
  },
  {
   "cell_type": "code",
   "execution_count": 155,
   "metadata": {
    "collapsed": false
   },
   "outputs": [
    {
     "data": {
      "text/plain": [
       "1291"
      ]
     },
     "execution_count": 155,
     "metadata": {},
     "output_type": "execute_result"
    }
   ],
   "source": [
    "len(c1)"
   ]
  },
  {
   "cell_type": "markdown",
   "metadata": {},
   "source": [
    "#Evaluation"
   ]
  },
  {
   "cell_type": "code",
   "execution_count": 149,
   "metadata": {
    "collapsed": true
   },
   "outputs": [],
   "source": [
    "def vote(c):\n",
    "    count0 = len([i for i in c if i == 0.0])\n",
    "    count1 = len([i for i in c if i == 1.0])\n",
    "#    print count0,count1\n",
    "    if(count0 > count1):\n",
    "        return 0.0\n",
    "    else:\n",
    "        return 1.0\n"
   ]
  },
  {
   "cell_type": "code",
   "execution_count": 157,
   "metadata": {
    "collapsed": false
   },
   "outputs": [],
   "source": [
    "vote_c1 =vote(c1_label)\n",
    "vote_c2 = vote(c2_label)"
   ]
  },
  {
   "cell_type": "code",
   "execution_count": 158,
   "metadata": {
    "collapsed": true
   },
   "outputs": [],
   "source": [
    "#evaluate performance of k-menas\n",
    "def evaluation(c1_label,vote_c1,c2_label,vote_c2):\n",
    "    ratio1 = len([i for i in c1_label if i == vote_c1])/float(len(c1_label))\n",
    "    ratio2 = len([i for i in c2_label if i == vote_c2])/float(len(c2_label))\n",
    "    print \"cluster 1 score:\",ratio1,\"cluster2 score:\",ratio2\n",
    "    ratio = (len([i for i in c1_label if i == vote_c1])+len([i for i in c2_label if i == vote_c2]))/float((len(c1_label)+len(c2_label)))\n",
    "    return ratio\n"
   ]
  },
  {
   "cell_type": "code",
   "execution_count": 159,
   "metadata": {
    "collapsed": false
   },
   "outputs": [
    {
     "name": "stdout",
     "output_type": "stream",
     "text": [
      "cluster 1 score: 0.545313710302 cluster2 score: 0.596303501946\n"
     ]
    },
    {
     "data": {
      "text/plain": [
       "0.5679172056921087"
      ]
     },
     "execution_count": 159,
     "metadata": {},
     "output_type": "execute_result"
    }
   ],
   "source": [
    "evaluation(c1_label,vote_c1,c2_label,vote_c2)"
   ]
  },
  {
   "cell_type": "markdown",
   "metadata": {},
   "source": [
    "#Sentiment Prediction"
   ]
  },
  {
   "cell_type": "code",
   "execution_count": 160,
   "metadata": {
    "collapsed": false
   },
   "outputs": [
    {
     "name": "stdout",
     "output_type": "stream",
     "text": [
      "0.729411764706\n",
      "[[91 36]\n",
      " [33 95]]\n"
     ]
    },
    {
     "data": {
      "image/png": "[encoded data removed]",
      "text/plain": [
       "<matplotlib.figure.Figure at 0x1055b5e90>"
      ]
     },
     "metadata": {},
     "output_type": "display_data"
    }
   ],
   "source": [
    "from sklearn.linear_model import LogisticRegression\n",
    "clf = LogisticRegression()\n",
    "clf.fit(normalize_train,clean_train_label)\n",
    "#report accuracy of logistic regression\n",
    "pred = clf.predict(normalize_test)\n",
    "accuracy = clf.score(normalize_test,clean_test_label)\n",
    "from sklearn.metrics import confusion_matrix\n",
    "cm = confusion_matrix(clean_test_label,pred)\n",
    "plt.imshow(cm, interpolation='nearest')\n",
    "plt.colorbar()\n",
    "tick_marks = np.array([0,1])\n",
    "plt.xticks(tick_marks, [0,1])\n",
    "plt.yticks(tick_marks, [0,1])\n",
    "plt.ylabel('True label')\n",
    "plt.xlabel('Predicted label')\n",
    "print accuracy\n",
    "print cm"
   ]
  },
  {
   "cell_type": "code",
   "execution_count": 172,
   "metadata": {
    "collapsed": false
   },
   "outputs": [
    {
     "name": "stdout",
     "output_type": "stream",
     "text": [
      "[['well', 'made'], ['great', 'film'], ['film', 'great'], ['definitely', 'worth'], ['highly', 'recommended'], ['love', 'phone'], ['great', 'price'], ['pretty', 'good'], ['great', 'deal'], ['good', 'product'], ['excellent', 'product'], ['good', 'price'], ['good', 'quality'], ['easy', 'use'], ['great', 'product'], ['work', 'fine'], ['highly', 'recommend'], ['one', 'best'], ['great', 'phone'], ['work', 'great']]\n"
     ]
    }
   ],
   "source": [
    "maxs = sorted(clf.coef_[0])[len(clf.coef_)-21:]\n",
    "#print max_5\n",
    "keywords = []\n",
    "for each in maxs:\n",
    "    index = [i for i in range(clf.coef_.shape[1]) if clf.coef_[0][i] == each]\n",
    "    keywords.append(dic[index[0]])\n",
    "print keywords"
   ]
  },
  {
   "cell_type": "code",
   "execution_count": null,
   "metadata": {
    "collapsed": false
   },
   "outputs": [],
   "source": []
  },
  {
   "cell_type": "code",
   "execution_count": null,
   "metadata": {
    "collapsed": true
   },
   "outputs": [],
   "source": []
  }
 ],
 "metadata": {
  "kernelspec": {
   "display_name": "Python 2",
   "language": "python",
   "name": "python2"
  },
  "language_info": {
   "codemirror_mode": {
    "name": "ipython",
    "version": 2
   },
   "file_extension": ".py",
   "mimetype": "text/x-python",
   "name": "python",
   "nbconvert_exporter": "python",
   "pygments_lexer": "ipython2",
   "version": "2.7.10"
  }
 },
 "nbformat": 4,
 "nbformat_minor": 0
}
